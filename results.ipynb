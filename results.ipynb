{
 "cells": [
  {
   "cell_type": "code",
   "execution_count": 1,
   "id": "90f89357",
   "metadata": {},
   "outputs": [],
   "source": [
    "import pandas as pd  # , numpy as np\n",
    "\n",
    "# from vivarium import Artifact"
   ]
  },
  {
   "cell_type": "code",
   "execution_count": 2,
   "id": "989d2838",
   "metadata": {},
   "outputs": [
    {
     "data": {
      "text/html": [
       "<div>\n",
       "<style scoped>\n",
       "    .dataframe tbody tr th:only-of-type {\n",
       "        vertical-align: middle;\n",
       "    }\n",
       "\n",
       "    .dataframe tbody tr th {\n",
       "        vertical-align: top;\n",
       "    }\n",
       "\n",
       "    .dataframe thead th {\n",
       "        text-align: right;\n",
       "    }\n",
       "</style>\n",
       "<table border=\"1\" class=\"dataframe\">\n",
       "  <thead>\n",
       "    <tr style=\"text-align: right;\">\n",
       "      <th></th>\n",
       "      <th></th>\n",
       "      <th></th>\n",
       "      <th></th>\n",
       "      <th></th>\n",
       "      <th></th>\n",
       "      <th></th>\n",
       "      <th></th>\n",
       "      <th></th>\n",
       "      <th>mean</th>\n",
       "      <th>uncertainty_interval_lower</th>\n",
       "      <th>uncertainty_interval_upper</th>\n",
       "    </tr>\n",
       "    <tr>\n",
       "      <th>year</th>\n",
       "      <th>location</th>\n",
       "      <th>age_start</th>\n",
       "      <th>age_end</th>\n",
       "      <th>sex</th>\n",
       "      <th>severity</th>\n",
       "      <th>scenario</th>\n",
       "      <th>measure</th>\n",
       "      <th>metric</th>\n",
       "      <th></th>\n",
       "      <th></th>\n",
       "      <th></th>\n",
       "    </tr>\n",
       "  </thead>\n",
       "  <tbody>\n",
       "  </tbody>\n",
       "</table>\n",
       "</div>"
      ],
      "text/plain": [
       "Empty DataFrame\n",
       "Columns: [mean, uncertainty_interval_lower, uncertainty_interval_upper]\n",
       "Index: []"
      ]
     },
     "execution_count": 2,
     "metadata": {},
     "output_type": "execute_result"
    }
   ],
   "source": [
    "multiindex_columns = [\n",
    "    \"year\",\n",
    "    \"location\",\n",
    "    \"age_start\",\n",
    "    \"age_end\",\n",
    "    \"sex\",\n",
    "    \"severity\",\n",
    "    \"scenario\",\n",
    "    \"measure\",\n",
    "    \"metric\",\n",
    "]\n",
    "columns = [\"mean\", \"uncertainty_interval_lower\", \"uncertainty_interval_upper\"]\n",
    "results = pd.DataFrame(\n",
    "    index=pd.MultiIndex.from_tuples([], names=multiindex_columns),\n",
    "    columns=columns,\n",
    ")\n",
    "results"
   ]
  },
  {
   "cell_type": "code",
   "execution_count": null,
   "id": "fbe7f474",
   "metadata": {},
   "outputs": [],
   "source": [
    "# incident cases\n"
   ]
  },
  {
   "cell_type": "code",
   "execution_count": null,
   "id": "728f75c9",
   "metadata": {},
   "outputs": [],
   "source": [
    "# prevalent person time"
   ]
  },
  {
   "cell_type": "code",
   "execution_count": null,
   "id": "7e8dd472",
   "metadata": {},
   "outputs": [],
   "source": [
    "# DALYs"
   ]
  },
  {
   "cell_type": "code",
   "execution_count": null,
   "id": "be426824",
   "metadata": {},
   "outputs": [],
   "source": [
    "# AD Deaths"
   ]
  },
  {
   "cell_type": "code",
   "execution_count": null,
   "id": "bb84e906",
   "metadata": {},
   "outputs": [],
   "source": [
    "# Averted AD deaths"
   ]
  },
  {
   "cell_type": "code",
   "execution_count": null,
   "id": "52fd7844",
   "metadata": {},
   "outputs": [],
   "source": [
    "# BBBM test counts"
   ]
  },
  {
   "cell_type": "code",
   "execution_count": null,
   "id": "81b01454",
   "metadata": {},
   "outputs": [],
   "source": [
    "# PET test counts"
   ]
  },
  {
   "cell_type": "code",
   "execution_count": null,
   "id": "678ec48b",
   "metadata": {},
   "outputs": [],
   "source": [
    "# CSF test counts"
   ]
  },
  {
   "cell_type": "code",
   "execution_count": null,
   "id": "c3b3a0f4",
   "metadata": {},
   "outputs": [],
   "source": [
    "# PET tests averted"
   ]
  },
  {
   "cell_type": "code",
   "execution_count": null,
   "id": "b3a3cb35",
   "metadata": {},
   "outputs": [],
   "source": [
    "# CSF tests averted"
   ]
  },
  {
   "cell_type": "code",
   "execution_count": null,
   "id": "dce07ccd",
   "metadata": {},
   "outputs": [],
   "source": [
    "# Medication initiation counts"
   ]
  },
  {
   "cell_type": "code",
   "execution_count": null,
   "id": "75c8d187",
   "metadata": {},
   "outputs": [],
   "source": [
    "# Medication discontinuation counts"
   ]
  },
  {
   "cell_type": "code",
   "execution_count": null,
   "id": "140d3b4c",
   "metadata": {},
   "outputs": [],
   "source": []
  }
 ],
 "metadata": {
  "kernelspec": {
   "display_name": "multistate_table",
   "language": "python",
   "name": "python3"
  },
  "language_info": {
   "codemirror_mode": {
    "name": "ipython",
    "version": 3
   },
   "file_extension": ".py",
   "mimetype": "text/x-python",
   "name": "python",
   "nbconvert_exporter": "python",
   "pygments_lexer": "ipython3",
   "version": "3.11.13"
  }
 },
 "nbformat": 4,
 "nbformat_minor": 5
}
