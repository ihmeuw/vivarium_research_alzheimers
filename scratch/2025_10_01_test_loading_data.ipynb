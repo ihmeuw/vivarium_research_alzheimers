{
 "cells": [
  {
   "cell_type": "code",
   "execution_count": 1,
   "id": "559d3664",
   "metadata": {},
   "outputs": [
    {
     "name": "stdout",
     "output_type": "stream",
     "text": [
      "Wed Oct  1 06:18:35 PDT 2025\n",
      "ndbs\n",
      "/mnt/share/code/ndbs/vivarium_research_alzheimers/scratch\n"
     ]
    }
   ],
   "source": [
    "import pandas as pd\n",
    "import numpy as np, os\n",
    "import matplotlib.pyplot as plt\n",
    "\n",
    "from pathlib import Path\n",
    "\n",
    "import gbd_mapping as gm\n",
    "from vivarium import Artifact\n",
    "\n",
    "from db_queries import get_ids, get_outputs, get_population, get_covariate_estimates\n",
    "from get_draws.api import get_draws\n",
    "\n",
    "!date\n",
    "!whoami\n",
    "!pwd"
   ]
  },
  {
   "cell_type": "code",
   "execution_count": 7,
   "id": "7e964a8d",
   "metadata": {},
   "outputs": [
    {
     "data": {
      "text/plain": [
       "'1.5.3'"
      ]
     },
     "execution_count": 7,
     "metadata": {},
     "output_type": "execute_result"
    }
   ],
   "source": [
    "pd.__version__"
   ]
  },
  {
   "cell_type": "code",
   "execution_count": null,
   "id": "e38ab13b",
   "metadata": {},
   "outputs": [],
   "source": []
  },
  {
   "cell_type": "code",
   "execution_count": 4,
   "id": "8f33c8a8",
   "metadata": {},
   "outputs": [
    {
     "name": "stdout",
     "output_type": "stream",
     "text": [
      "/mnt/team/simulation_science/pub/models/vivarium_csu_alzheimers\n"
     ]
    }
   ],
   "source": [
    "%cd /mnt/team/simulation_science/pub/models/vivarium_csu_alzheimers/"
   ]
  },
  {
   "cell_type": "code",
   "execution_count": 31,
   "id": "66a6104a",
   "metadata": {},
   "outputs": [
    {
     "name": "stdout",
     "output_type": "stream",
     "text": [
      "total 106M\n",
      "drwxrwsr-x 5 tylerdy IHME-Simulationscience 4.5K Sep 25 10:18 ..\n",
      "drwxrwsr-x 2 tylerdy IHME-Simulationscience 3.0K Sep 25 09:36 .\n",
      "-rw-rw-r-- 1 tylerdy IHME-Simulationscience 3.1M Sep 25 09:36 new_simulants.parquet\n",
      "-rw-rw-r-- 1 tylerdy IHME-Simulationscience  15M Sep 25 09:36 person_time_alzheimers_disease_and_other_dementias.parquet\n",
      "-rw-rw-r-- 1 tylerdy IHME-Simulationscience 4.6M Sep 25 09:36 deaths.parquet\n",
      "-rw-rw-r-- 1 tylerdy IHME-Simulationscience 5.7M Sep 25 09:36 transition_count_alzheimers_disease_and_other_dementias.parquet\n",
      "-rw-rw-r-- 1 tylerdy IHME-Simulationscience  51M Sep 25 09:36 ylds.parquet\n",
      "-rw-rw-r-- 1 tylerdy IHME-Simulationscience  28M Sep 25 09:36 ylls.parquet\n"
     ]
    }
   ],
   "source": [
    "!ls -halt results/model5.0/model_spec/2025_09_25_09_02_38/results/"
   ]
  },
  {
   "cell_type": "code",
   "execution_count": 2,
   "id": "aa326a2d",
   "metadata": {},
   "outputs": [
    {
     "data": {
      "text/plain": [
       "['artifacts/model5.0/united_states_of_america.hdf']"
      ]
     },
     "execution_count": 2,
     "metadata": {},
     "output_type": "execute_result"
    }
   ],
   "source": [
    "locations = [\n",
    "            'united_states_of_america',\n",
    "            #  'brazil',\n",
    "            #  'china',\n",
    "            #  'germany',\n",
    "            #  'israel',\n",
    "            #  'japan',\n",
    "            #  'spain',\n",
    "            #  'sweden',\n",
    "            #  'taiwan_(province_of_china)',\n",
    "            #  'united_kingdom',\n",
    "            ]\n",
    "\n",
    "\n",
    "\n",
    "results_dirs = [\n",
    "    'results/model5.0/model_spec/2025_09_25_09_02_38/results/',\n",
    "]\n",
    "\n",
    "artifact_dirs = ['artifacts/model5.0/' + x + '.hdf' for x in locations]\n",
    "artifact_dirs"
   ]
  },
  {
   "cell_type": "code",
   "execution_count": 5,
   "id": "cabc69d8",
   "metadata": {},
   "outputs": [
    {
     "name": "stdout",
     "output_type": "stream",
     "text": [
      "<class 'pandas.core.frame.DataFrame'>\n",
      "RangeIndex: 570000 entries, 0 to 569999\n",
      "Data columns (total 13 columns):\n",
      " #   Column             Non-Null Count   Dtype   \n",
      "---  ------             --------------   -----   \n",
      " 0   measure            570000 non-null  object  \n",
      " 1   entity_type        570000 non-null  category\n",
      " 2   entity             570000 non-null  category\n",
      " 3   sub_entity         570000 non-null  category\n",
      " 4   age_group          570000 non-null  category\n",
      " 5   current_year       570000 non-null  category\n",
      " 6   sex                570000 non-null  category\n",
      " 7   artifact_path      570000 non-null  object  \n",
      " 8   input_draw_number  570000 non-null  int64   \n",
      " 9   scenario           570000 non-null  object  \n",
      " 10  input_draw         570000 non-null  int64   \n",
      " 11  random_seed        570000 non-null  int64   \n",
      " 12  value              570000 non-null  float64 \n",
      "dtypes: category(6), float64(1), int64(3), object(3)\n",
      "memory usage: 33.7+ MB\n",
      "CPU times: user 2.31 s, sys: 1.18 s, total: 3.49 s\n",
      "Wall time: 1.11 s\n"
     ]
    }
   ],
   "source": [
    "%%time\n",
    "test = pd.read_parquet(\n",
    "    results_dirs[0] + 'deaths' + '.parquet',\n",
    "    filters=[('artifact_path', '==', '/mnt/team/simulation_science/pub/models/vivarium_csu_alzheimers/' + artifact_dirs[0])]\n",
    ")\n",
    "test.info()"
   ]
  },
  {
   "cell_type": "code",
   "execution_count": 16,
   "id": "0d92bf4c",
   "metadata": {},
   "outputs": [
    {
     "name": "stdout",
     "output_type": "stream",
     "text": [
      "190.38932\n"
     ]
    },
    {
     "data": {
      "text/plain": [
       "Index                     132\n",
       "measure              35910000\n",
       "entity_type            570170\n",
       "entity                 570258\n",
       "sub_entity             570258\n",
       "age_group              571530\n",
       "current_year           576740\n",
       "sex                    570232\n",
       "artifact_path        95760000\n",
       "input_draw_number     4560000\n",
       "scenario             37050000\n",
       "input_draw            4560000\n",
       "random_seed           4560000\n",
       "value                 4560000\n",
       "dtype: int64"
      ]
     },
     "execution_count": 16,
     "metadata": {},
     "output_type": "execute_result"
    }
   ],
   "source": [
    "print(test.memory_usage(deep=True).sum() / 1e6)\n",
    "test.memory_usage(deep=True)"
   ]
  },
  {
   "cell_type": "markdown",
   "id": "7a25e4a7",
   "metadata": {},
   "source": [
    "# Try converting a column to a Pyarrow backend\n",
    "\n",
    "Hmm, it works, but it doesn't save much memory: 96 MB to 67 MB."
   ]
  },
  {
   "cell_type": "code",
   "execution_count": 10,
   "id": "3d07e2cb",
   "metadata": {},
   "outputs": [
    {
     "data": {
      "text/plain": [
       "0         /mnt/team/simulation_science/pub/models/vivari...\n",
       "1         /mnt/team/simulation_science/pub/models/vivari...\n",
       "2         /mnt/team/simulation_science/pub/models/vivari...\n",
       "3         /mnt/team/simulation_science/pub/models/vivari...\n",
       "4         /mnt/team/simulation_science/pub/models/vivari...\n",
       "                                ...                        \n",
       "569995    /mnt/team/simulation_science/pub/models/vivari...\n",
       "569996    /mnt/team/simulation_science/pub/models/vivari...\n",
       "569997    /mnt/team/simulation_science/pub/models/vivari...\n",
       "569998    /mnt/team/simulation_science/pub/models/vivari...\n",
       "569999    /mnt/team/simulation_science/pub/models/vivari...\n",
       "Name: artifact_path, Length: 570000, dtype: string"
      ]
     },
     "execution_count": 10,
     "metadata": {},
     "output_type": "execute_result"
    }
   ],
   "source": [
    "a = pd.Series(test.artifact_path, dtype='string[pyarrow]')\n",
    "a"
   ]
  },
  {
   "cell_type": "code",
   "execution_count": 11,
   "id": "279caa87",
   "metadata": {},
   "outputs": [
    {
     "data": {
      "text/plain": [
       "65550132"
      ]
     },
     "execution_count": 11,
     "metadata": {},
     "output_type": "execute_result"
    }
   ],
   "source": [
    "a.memory_usage(deep=True)"
   ]
  },
  {
   "cell_type": "markdown",
   "id": "021ae835",
   "metadata": {},
   "source": [
    "# Now try converting the column to Categorical\n",
    "\n",
    "This saves lots of memory: 96 MB to 570 KB."
   ]
  },
  {
   "cell_type": "code",
   "execution_count": 12,
   "id": "b426bd87",
   "metadata": {},
   "outputs": [
    {
     "data": {
      "text/plain": [
       "0         /mnt/team/simulation_science/pub/models/vivari...\n",
       "1         /mnt/team/simulation_science/pub/models/vivari...\n",
       "2         /mnt/team/simulation_science/pub/models/vivari...\n",
       "3         /mnt/team/simulation_science/pub/models/vivari...\n",
       "4         /mnt/team/simulation_science/pub/models/vivari...\n",
       "                                ...                        \n",
       "569995    /mnt/team/simulation_science/pub/models/vivari...\n",
       "569996    /mnt/team/simulation_science/pub/models/vivari...\n",
       "569997    /mnt/team/simulation_science/pub/models/vivari...\n",
       "569998    /mnt/team/simulation_science/pub/models/vivari...\n",
       "569999    /mnt/team/simulation_science/pub/models/vivari...\n",
       "Name: artifact_path, Length: 570000, dtype: category\n",
       "Categories (1, object): ['/mnt/team/simulation_science/pub/models/vivar...]"
      ]
     },
     "execution_count": 12,
     "metadata": {},
     "output_type": "execute_result"
    }
   ],
   "source": [
    "c = test.artifact_path.astype('category')\n",
    "c"
   ]
  },
  {
   "cell_type": "code",
   "execution_count": 13,
   "id": "0a5f423f",
   "metadata": {},
   "outputs": [
    {
     "data": {
      "text/plain": [
       "570408"
      ]
     },
     "execution_count": 13,
     "metadata": {},
     "output_type": "execute_result"
    }
   ],
   "source": [
    "c.memory_usage(deep=True)"
   ]
  },
  {
   "cell_type": "code",
   "execution_count": 14,
   "id": "2c41d215",
   "metadata": {},
   "outputs": [
    {
     "data": {
      "text/plain": [
       "<ArrowStringArray>\n",
       "['/mnt/team/simulation_science/pub/models/vivarium_csu_alzheimers/artifacts/model5.0/united_states_of_america.hdf']\n",
       "Length: 1, dtype: string"
      ]
     },
     "execution_count": 14,
     "metadata": {},
     "output_type": "execute_result"
    }
   ],
   "source": [
    "a.unique()"
   ]
  },
  {
   "cell_type": "code",
   "execution_count": 18,
   "id": "4adccdf8",
   "metadata": {},
   "outputs": [],
   "source": [
    "# pd.set_option(\"mode.dtype_backend\", \"pyarrow\")\n",
    "# Results in:\n",
    "# OptionError: No such keys(s): 'mode.dtype_backend'\n",
    "# since we're only using pandas 1.5.3"
   ]
  },
  {
   "cell_type": "code",
   "execution_count": 20,
   "id": "6c494374",
   "metadata": {},
   "outputs": [
    {
     "name": "stdout",
     "output_type": "stream",
     "text": [
      "<class 'pandas.core.frame.DataFrame'>\n",
      "RangeIndex: 570000 entries, 0 to 569999\n",
      "Data columns (total 13 columns):\n",
      " #   Column             Non-Null Count   Dtype   \n",
      "---  ------             --------------   -----   \n",
      " 0   measure            570000 non-null  category\n",
      " 1   entity_type        570000 non-null  category\n",
      " 2   entity             570000 non-null  category\n",
      " 3   sub_entity         570000 non-null  category\n",
      " 4   age_group          570000 non-null  category\n",
      " 5   current_year       570000 non-null  category\n",
      " 6   sex                570000 non-null  category\n",
      " 7   artifact_path      570000 non-null  category\n",
      " 8   input_draw_number  570000 non-null  category\n",
      " 9   scenario           570000 non-null  category\n",
      " 10  input_draw         570000 non-null  category\n",
      " 11  random_seed        570000 non-null  category\n",
      " 12  value              570000 non-null  float64 \n",
      "dtypes: category(12), float64(1)\n",
      "memory usage: 10.9 MB\n",
      "CPU times: user 420 ms, sys: 46.8 ms, total: 467 ms\n",
      "Wall time: 465 ms\n"
     ]
    }
   ],
   "source": [
    "%%time\n",
    "test_c = test.copy()\n",
    "\n",
    "def convert_to_categorical(df):\n",
    "    for col in df:\n",
    "        if df[col].dtype not in ('float', 'category'):\n",
    "            df[col] = df[col].astype('category')\n",
    "\n",
    "convert_to_categorical(test_c)\n",
    "test_c.info()"
   ]
  },
  {
   "cell_type": "code",
   "execution_count": 23,
   "id": "27751d9a",
   "metadata": {},
   "outputs": [
    {
     "name": "stdout",
     "output_type": "stream",
     "text": [
      "11.411664\n"
     ]
    },
    {
     "data": {
      "text/plain": [
       "Index                    132\n",
       "measure               570171\n",
       "entity_type           570170\n",
       "entity                570258\n",
       "sub_entity            570258\n",
       "age_group             571530\n",
       "current_year          576740\n",
       "sex                   570232\n",
       "artifact_path         570276\n",
       "input_draw_number     570756\n",
       "scenario              570173\n",
       "input_draw            570756\n",
       "random_seed           570212\n",
       "value                4560000\n",
       "dtype: int64"
      ]
     },
     "execution_count": 23,
     "metadata": {},
     "output_type": "execute_result"
    }
   ],
   "source": [
    "m = test_c.memory_usage(deep=True)\n",
    "print(m.sum() / 1e6)\n",
    "m"
   ]
  },
  {
   "cell_type": "markdown",
   "id": "dd7ed4ea",
   "metadata": {},
   "source": [
    "# Try reading without filtering\n",
    "\n",
    "It works! And it's not too slow. The deaths dataframe is 1.8 GB in memory."
   ]
  },
  {
   "cell_type": "code",
   "execution_count": 24,
   "id": "a2cb0035",
   "metadata": {},
   "outputs": [
    {
     "name": "stdout",
     "output_type": "stream",
     "text": [
      "<class 'pandas.core.frame.DataFrame'>\n",
      "RangeIndex: 5700000 entries, 0 to 5699999\n",
      "Data columns (total 13 columns):\n",
      " #   Column             Dtype   \n",
      "---  ------             -----   \n",
      " 0   measure            object  \n",
      " 1   entity_type        category\n",
      " 2   entity             category\n",
      " 3   sub_entity         category\n",
      " 4   age_group          category\n",
      " 5   current_year       category\n",
      " 6   sex                category\n",
      " 7   artifact_path      object  \n",
      " 8   input_draw_number  int64   \n",
      " 9   scenario           object  \n",
      " 10  input_draw         int64   \n",
      " 11  random_seed        int64   \n",
      " 12  value              float64 \n",
      "dtypes: category(6), float64(1), int64(3), object(3)\n",
      "memory usage: 337.0+ MB\n",
      "CPU times: user 2.54 s, sys: 852 ms, total: 3.39 s\n",
      "Wall time: 1.18 s\n"
     ]
    }
   ],
   "source": [
    "%%time\n",
    "deaths = pd.read_parquet(results_dirs[0] + 'deaths' + '.parquet')\n",
    "deaths.info()"
   ]
  },
  {
   "cell_type": "code",
   "execution_count": 25,
   "id": "9ab04e5f",
   "metadata": {},
   "outputs": [
    {
     "name": "stdout",
     "output_type": "stream",
     "text": [
      "1826.28932\n"
     ]
    },
    {
     "data": {
      "text/plain": [
       "Index                      132\n",
       "measure              359100000\n",
       "entity_type            5700170\n",
       "entity                 5700258\n",
       "sub_entity             5700258\n",
       "age_group              5701530\n",
       "current_year           5706740\n",
       "sex                    5700232\n",
       "artifact_path        880080000\n",
       "input_draw_number     45600000\n",
       "scenario             370500000\n",
       "input_draw            45600000\n",
       "random_seed           45600000\n",
       "value                 45600000\n",
       "dtype: int64"
      ]
     },
     "execution_count": 25,
     "metadata": {},
     "output_type": "execute_result"
    }
   ],
   "source": [
    "m = deaths.memory_usage(deep=True)\n",
    "print(m.sum() / 1e6)\n",
    "m"
   ]
  },
  {
   "cell_type": "code",
   "execution_count": 26,
   "id": "12a7ce1c",
   "metadata": {},
   "outputs": [
    {
     "name": "stdout",
     "output_type": "stream",
     "text": [
      "<class 'pandas.core.frame.DataFrame'>\n",
      "RangeIndex: 5700000 entries, 0 to 5699999\n",
      "Data columns (total 13 columns):\n",
      " #   Column             Dtype   \n",
      "---  ------             -----   \n",
      " 0   measure            category\n",
      " 1   entity_type        category\n",
      " 2   entity             category\n",
      " 3   sub_entity         category\n",
      " 4   age_group          category\n",
      " 5   current_year       category\n",
      " 6   sex                category\n",
      " 7   artifact_path      category\n",
      " 8   input_draw_number  category\n",
      " 9   scenario           category\n",
      " 10  input_draw         category\n",
      " 11  random_seed        category\n",
      " 12  value              float64 \n",
      "dtypes: category(12), float64(1)\n",
      "memory usage: 108.7 MB\n",
      "CPU times: user 2.72 s, sys: 541 ms, total: 3.26 s\n",
      "Wall time: 3.25 s\n"
     ]
    }
   ],
   "source": [
    "%%time\n",
    "convert_to_categorical(deaths)\n",
    "deaths.info()"
   ]
  },
  {
   "cell_type": "code",
   "execution_count": 27,
   "id": "51513169",
   "metadata": {},
   "outputs": [
    {
     "name": "stdout",
     "output_type": "stream",
     "text": [
      "114.013232\n"
     ]
    },
    {
     "data": {
      "text/plain": [
       "Index                     132\n",
       "measure               5700171\n",
       "entity_type           5700170\n",
       "entity                5700258\n",
       "sub_entity            5700258\n",
       "age_group             5701530\n",
       "current_year          5706740\n",
       "sex                   5700232\n",
       "artifact_path         5701844\n",
       "input_draw_number     5700756\n",
       "scenario              5700173\n",
       "input_draw            5700756\n",
       "random_seed           5700212\n",
       "value                45600000\n",
       "dtype: int64"
      ]
     },
     "execution_count": 27,
     "metadata": {},
     "output_type": "execute_result"
    }
   ],
   "source": [
    "m = deaths.memory_usage(deep=True)\n",
    "print(m.sum() / 1e6)\n",
    "m"
   ]
  },
  {
   "cell_type": "code",
   "execution_count": 28,
   "id": "3623679e",
   "metadata": {},
   "outputs": [
    {
     "data": {
      "text/html": [
       "<div>\n",
       "<style scoped>\n",
       "    .dataframe tbody tr th:only-of-type {\n",
       "        vertical-align: middle;\n",
       "    }\n",
       "\n",
       "    .dataframe tbody tr th {\n",
       "        vertical-align: top;\n",
       "    }\n",
       "\n",
       "    .dataframe thead th {\n",
       "        text-align: right;\n",
       "    }\n",
       "</style>\n",
       "<table border=\"1\" class=\"dataframe\">\n",
       "  <thead>\n",
       "    <tr style=\"text-align: right;\">\n",
       "      <th></th>\n",
       "      <th>measure</th>\n",
       "      <th>entity_type</th>\n",
       "      <th>entity</th>\n",
       "      <th>sub_entity</th>\n",
       "      <th>age_group</th>\n",
       "      <th>current_year</th>\n",
       "      <th>sex</th>\n",
       "      <th>artifact_path</th>\n",
       "      <th>input_draw_number</th>\n",
       "      <th>scenario</th>\n",
       "      <th>input_draw</th>\n",
       "      <th>random_seed</th>\n",
       "      <th>value</th>\n",
       "    </tr>\n",
       "  </thead>\n",
       "  <tbody>\n",
       "    <tr>\n",
       "      <th>0</th>\n",
       "      <td>deaths</td>\n",
       "      <td>cause</td>\n",
       "      <td>alzheimers_disease_state</td>\n",
       "      <td>alzheimers_disease_state</td>\n",
       "      <td>25_to_29</td>\n",
       "      <td>2025</td>\n",
       "      <td>Female</td>\n",
       "      <td>/mnt/team/simulation_science/pub/models/vivari...</td>\n",
       "      <td>499</td>\n",
       "      <td>baseline</td>\n",
       "      <td>499</td>\n",
       "      <td>2284</td>\n",
       "      <td>0.0</td>\n",
       "    </tr>\n",
       "    <tr>\n",
       "      <th>1</th>\n",
       "      <td>deaths</td>\n",
       "      <td>cause</td>\n",
       "      <td>alzheimers_disease_state</td>\n",
       "      <td>alzheimers_disease_state</td>\n",
       "      <td>25_to_29</td>\n",
       "      <td>2025</td>\n",
       "      <td>Male</td>\n",
       "      <td>/mnt/team/simulation_science/pub/models/vivari...</td>\n",
       "      <td>499</td>\n",
       "      <td>baseline</td>\n",
       "      <td>499</td>\n",
       "      <td>2284</td>\n",
       "      <td>0.0</td>\n",
       "    </tr>\n",
       "    <tr>\n",
       "      <th>2</th>\n",
       "      <td>deaths</td>\n",
       "      <td>cause</td>\n",
       "      <td>alzheimers_disease_state</td>\n",
       "      <td>alzheimers_disease_state</td>\n",
       "      <td>25_to_29</td>\n",
       "      <td>2026</td>\n",
       "      <td>Female</td>\n",
       "      <td>/mnt/team/simulation_science/pub/models/vivari...</td>\n",
       "      <td>499</td>\n",
       "      <td>baseline</td>\n",
       "      <td>499</td>\n",
       "      <td>2284</td>\n",
       "      <td>0.0</td>\n",
       "    </tr>\n",
       "    <tr>\n",
       "      <th>3</th>\n",
       "      <td>deaths</td>\n",
       "      <td>cause</td>\n",
       "      <td>alzheimers_disease_state</td>\n",
       "      <td>alzheimers_disease_state</td>\n",
       "      <td>25_to_29</td>\n",
       "      <td>2026</td>\n",
       "      <td>Male</td>\n",
       "      <td>/mnt/team/simulation_science/pub/models/vivari...</td>\n",
       "      <td>499</td>\n",
       "      <td>baseline</td>\n",
       "      <td>499</td>\n",
       "      <td>2284</td>\n",
       "      <td>0.0</td>\n",
       "    </tr>\n",
       "    <tr>\n",
       "      <th>4</th>\n",
       "      <td>deaths</td>\n",
       "      <td>cause</td>\n",
       "      <td>alzheimers_disease_state</td>\n",
       "      <td>alzheimers_disease_state</td>\n",
       "      <td>25_to_29</td>\n",
       "      <td>2027</td>\n",
       "      <td>Female</td>\n",
       "      <td>/mnt/team/simulation_science/pub/models/vivari...</td>\n",
       "      <td>499</td>\n",
       "      <td>baseline</td>\n",
       "      <td>499</td>\n",
       "      <td>2284</td>\n",
       "      <td>0.0</td>\n",
       "    </tr>\n",
       "    <tr>\n",
       "      <th>...</th>\n",
       "      <td>...</td>\n",
       "      <td>...</td>\n",
       "      <td>...</td>\n",
       "      <td>...</td>\n",
       "      <td>...</td>\n",
       "      <td>...</td>\n",
       "      <td>...</td>\n",
       "      <td>...</td>\n",
       "      <td>...</td>\n",
       "      <td>...</td>\n",
       "      <td>...</td>\n",
       "      <td>...</td>\n",
       "      <td>...</td>\n",
       "    </tr>\n",
       "    <tr>\n",
       "      <th>5699995</th>\n",
       "      <td>deaths</td>\n",
       "      <td>cause</td>\n",
       "      <td>other_causes</td>\n",
       "      <td>other_causes</td>\n",
       "      <td>95_plus</td>\n",
       "      <td>2098</td>\n",
       "      <td>Male</td>\n",
       "      <td>/mnt/team/simulation_science/pub/models/vivari...</td>\n",
       "      <td>199</td>\n",
       "      <td>baseline</td>\n",
       "      <td>199</td>\n",
       "      <td>5616</td>\n",
       "      <td>70.0</td>\n",
       "    </tr>\n",
       "    <tr>\n",
       "      <th>5699996</th>\n",
       "      <td>deaths</td>\n",
       "      <td>cause</td>\n",
       "      <td>other_causes</td>\n",
       "      <td>other_causes</td>\n",
       "      <td>95_plus</td>\n",
       "      <td>2099</td>\n",
       "      <td>Female</td>\n",
       "      <td>/mnt/team/simulation_science/pub/models/vivari...</td>\n",
       "      <td>199</td>\n",
       "      <td>baseline</td>\n",
       "      <td>199</td>\n",
       "      <td>5616</td>\n",
       "      <td>532.0</td>\n",
       "    </tr>\n",
       "    <tr>\n",
       "      <th>5699997</th>\n",
       "      <td>deaths</td>\n",
       "      <td>cause</td>\n",
       "      <td>other_causes</td>\n",
       "      <td>other_causes</td>\n",
       "      <td>95_plus</td>\n",
       "      <td>2099</td>\n",
       "      <td>Male</td>\n",
       "      <td>/mnt/team/simulation_science/pub/models/vivari...</td>\n",
       "      <td>199</td>\n",
       "      <td>baseline</td>\n",
       "      <td>199</td>\n",
       "      <td>5616</td>\n",
       "      <td>60.0</td>\n",
       "    </tr>\n",
       "    <tr>\n",
       "      <th>5699998</th>\n",
       "      <td>deaths</td>\n",
       "      <td>cause</td>\n",
       "      <td>other_causes</td>\n",
       "      <td>other_causes</td>\n",
       "      <td>95_plus</td>\n",
       "      <td>2100</td>\n",
       "      <td>Female</td>\n",
       "      <td>/mnt/team/simulation_science/pub/models/vivari...</td>\n",
       "      <td>199</td>\n",
       "      <td>baseline</td>\n",
       "      <td>199</td>\n",
       "      <td>5616</td>\n",
       "      <td>503.0</td>\n",
       "    </tr>\n",
       "    <tr>\n",
       "      <th>5699999</th>\n",
       "      <td>deaths</td>\n",
       "      <td>cause</td>\n",
       "      <td>other_causes</td>\n",
       "      <td>other_causes</td>\n",
       "      <td>95_plus</td>\n",
       "      <td>2100</td>\n",
       "      <td>Male</td>\n",
       "      <td>/mnt/team/simulation_science/pub/models/vivari...</td>\n",
       "      <td>199</td>\n",
       "      <td>baseline</td>\n",
       "      <td>199</td>\n",
       "      <td>5616</td>\n",
       "      <td>69.0</td>\n",
       "    </tr>\n",
       "  </tbody>\n",
       "</table>\n",
       "<p>5700000 rows × 13 columns</p>\n",
       "</div>"
      ],
      "text/plain": [
       "        measure entity_type                    entity  \\\n",
       "0        deaths       cause  alzheimers_disease_state   \n",
       "1        deaths       cause  alzheimers_disease_state   \n",
       "2        deaths       cause  alzheimers_disease_state   \n",
       "3        deaths       cause  alzheimers_disease_state   \n",
       "4        deaths       cause  alzheimers_disease_state   \n",
       "...         ...         ...                       ...   \n",
       "5699995  deaths       cause              other_causes   \n",
       "5699996  deaths       cause              other_causes   \n",
       "5699997  deaths       cause              other_causes   \n",
       "5699998  deaths       cause              other_causes   \n",
       "5699999  deaths       cause              other_causes   \n",
       "\n",
       "                       sub_entity age_group current_year     sex  \\\n",
       "0        alzheimers_disease_state  25_to_29         2025  Female   \n",
       "1        alzheimers_disease_state  25_to_29         2025    Male   \n",
       "2        alzheimers_disease_state  25_to_29         2026  Female   \n",
       "3        alzheimers_disease_state  25_to_29         2026    Male   \n",
       "4        alzheimers_disease_state  25_to_29         2027  Female   \n",
       "...                           ...       ...          ...     ...   \n",
       "5699995              other_causes   95_plus         2098    Male   \n",
       "5699996              other_causes   95_plus         2099  Female   \n",
       "5699997              other_causes   95_plus         2099    Male   \n",
       "5699998              other_causes   95_plus         2100  Female   \n",
       "5699999              other_causes   95_plus         2100    Male   \n",
       "\n",
       "                                             artifact_path input_draw_number  \\\n",
       "0        /mnt/team/simulation_science/pub/models/vivari...               499   \n",
       "1        /mnt/team/simulation_science/pub/models/vivari...               499   \n",
       "2        /mnt/team/simulation_science/pub/models/vivari...               499   \n",
       "3        /mnt/team/simulation_science/pub/models/vivari...               499   \n",
       "4        /mnt/team/simulation_science/pub/models/vivari...               499   \n",
       "...                                                    ...               ...   \n",
       "5699995  /mnt/team/simulation_science/pub/models/vivari...               199   \n",
       "5699996  /mnt/team/simulation_science/pub/models/vivari...               199   \n",
       "5699997  /mnt/team/simulation_science/pub/models/vivari...               199   \n",
       "5699998  /mnt/team/simulation_science/pub/models/vivari...               199   \n",
       "5699999  /mnt/team/simulation_science/pub/models/vivari...               199   \n",
       "\n",
       "         scenario input_draw random_seed  value  \n",
       "0        baseline        499        2284    0.0  \n",
       "1        baseline        499        2284    0.0  \n",
       "2        baseline        499        2284    0.0  \n",
       "3        baseline        499        2284    0.0  \n",
       "4        baseline        499        2284    0.0  \n",
       "...           ...        ...         ...    ...  \n",
       "5699995  baseline        199        5616   70.0  \n",
       "5699996  baseline        199        5616  532.0  \n",
       "5699997  baseline        199        5616   60.0  \n",
       "5699998  baseline        199        5616  503.0  \n",
       "5699999  baseline        199        5616   69.0  \n",
       "\n",
       "[5700000 rows x 13 columns]"
      ]
     },
     "execution_count": 28,
     "metadata": {},
     "output_type": "execute_result"
    }
   ],
   "source": [
    "deaths"
   ]
  },
  {
   "cell_type": "code",
   "execution_count": 30,
   "id": "b8455fe6",
   "metadata": {},
   "outputs": [
    {
     "data": {
      "text/plain": [
       "['/mnt/team/simulation_science/pub/models/vivarium_csu_alzheimers/artifacts/model5.0/sweden.hdf',\n",
       " '/mnt/team/simulation_science/pub/models/vivarium_csu_alzheimers/artifacts/model5.0/germany.hdf',\n",
       " '/mnt/team/simulation_science/pub/models/vivarium_csu_alzheimers/artifacts/model5.0/japan.hdf',\n",
       " '/mnt/team/simulation_science/pub/models/vivarium_csu_alzheimers/artifacts/model5.0/spain.hdf',\n",
       " '/mnt/team/simulation_science/pub/models/vivarium_csu_alzheimers/artifacts/model5.0/united_kingdom.hdf',\n",
       " '/mnt/team/simulation_science/pub/models/vivarium_csu_alzheimers/artifacts/model5.0/taiwan_(province_of_china).hdf',\n",
       " '/mnt/team/simulation_science/pub/models/vivarium_csu_alzheimers/artifacts/model5.0/united_states_of_america.hdf',\n",
       " '/mnt/team/simulation_science/pub/models/vivarium_csu_alzheimers/artifacts/model5.0/china.hdf',\n",
       " '/mnt/team/simulation_science/pub/models/vivarium_csu_alzheimers/artifacts/model5.0/israel.hdf',\n",
       " '/mnt/team/simulation_science/pub/models/vivarium_csu_alzheimers/artifacts/model5.0/brazil.hdf']"
      ]
     },
     "execution_count": 30,
     "metadata": {},
     "output_type": "execute_result"
    }
   ],
   "source": [
    "deaths.artifact_path.unique().to_list()"
   ]
  },
  {
   "cell_type": "markdown",
   "id": "96f3d841",
   "metadata": {},
   "source": [
    "# Try loading YLDs, which is the largest file at 51MB\n",
    "\n",
    "The YLDs dataframe has 11.4 million rows. When read in, the dataframe is 3.6 GB in memory. After conversion to\n",
    "Categoricals, it's only 228 MB."
   ]
  },
  {
   "cell_type": "code",
   "execution_count": 32,
   "id": "daf2bffe",
   "metadata": {},
   "outputs": [
    {
     "name": "stdout",
     "output_type": "stream",
     "text": [
      "<class 'pandas.core.frame.DataFrame'>\n",
      "RangeIndex: 11400000 entries, 0 to 11399999\n",
      "Data columns (total 13 columns):\n",
      " #   Column             Dtype   \n",
      "---  ------             -----   \n",
      " 0   measure            object  \n",
      " 1   entity_type        category\n",
      " 2   entity             category\n",
      " 3   sub_entity         category\n",
      " 4   age_group          category\n",
      " 5   current_year       category\n",
      " 6   sex                category\n",
      " 7   artifact_path      object  \n",
      " 8   input_draw_number  int64   \n",
      " 9   scenario           object  \n",
      " 10  input_draw         int64   \n",
      " 11  random_seed        int64   \n",
      " 12  value              float64 \n",
      "dtypes: category(6), float64(1), int64(3), object(3)\n",
      "memory usage: 674.1+ MB\n",
      "CPU times: user 5.71 s, sys: 1.61 s, total: 7.32 s\n",
      "Wall time: 2.64 s\n"
     ]
    }
   ],
   "source": [
    "%%time\n",
    "ylds = pd.read_parquet(results_dirs[0] + 'ylds' + '.parquet')\n",
    "ylds.info()"
   ]
  },
  {
   "cell_type": "code",
   "execution_count": 33,
   "id": "05773db6",
   "metadata": {},
   "outputs": [
    {
     "name": "stdout",
     "output_type": "stream",
     "text": [
      "3629.769588\n"
     ]
    },
    {
     "data": {
      "text/plain": [
       "Index                       132\n",
       "measure               695400000\n",
       "entity_type            11400170\n",
       "entity                 11400270\n",
       "sub_entity             11400514\n",
       "age_group              11401530\n",
       "current_year           11406740\n",
       "sex                    11400232\n",
       "artifact_path        1760160000\n",
       "input_draw_number      91200000\n",
       "scenario              741000000\n",
       "input_draw             91200000\n",
       "random_seed            91200000\n",
       "value                  91200000\n",
       "dtype: int64"
      ]
     },
     "execution_count": 33,
     "metadata": {},
     "output_type": "execute_result"
    }
   ],
   "source": [
    "m = ylds.memory_usage(deep=True)\n",
    "print(m.sum() / 1e6)\n",
    "m"
   ]
  },
  {
   "cell_type": "code",
   "execution_count": 34,
   "id": "448f0acb",
   "metadata": {},
   "outputs": [
    {
     "name": "stdout",
     "output_type": "stream",
     "text": [
      "<class 'pandas.core.frame.DataFrame'>\n",
      "RangeIndex: 11400000 entries, 0 to 11399999\n",
      "Data columns (total 13 columns):\n",
      " #   Column             Dtype   \n",
      "---  ------             -----   \n",
      " 0   measure            category\n",
      " 1   entity_type        category\n",
      " 2   entity             category\n",
      " 3   sub_entity         category\n",
      " 4   age_group          category\n",
      " 5   current_year       category\n",
      " 6   sex                category\n",
      " 7   artifact_path      category\n",
      " 8   input_draw_number  category\n",
      " 9   scenario           category\n",
      " 10  input_draw         category\n",
      " 11  random_seed        category\n",
      " 12  value              float64 \n",
      "dtypes: category(12), float64(1)\n",
      "memory usage: 217.4 MB\n",
      "CPU times: user 3.66 s, sys: 841 ms, total: 4.5 s\n",
      "Wall time: 4.49 s\n"
     ]
    }
   ],
   "source": [
    "%%time\n",
    "convert_to_categorical(ylds)\n",
    "ylds.info()"
   ]
  },
  {
   "cell_type": "code",
   "execution_count": 35,
   "id": "bdc1e3ef",
   "metadata": {},
   "outputs": [
    {
     "name": "stdout",
     "output_type": "stream",
     "text": [
      "228.013498\n"
     ]
    },
    {
     "data": {
      "text/plain": [
       "Index                     132\n",
       "measure              11400169\n",
       "entity_type          11400170\n",
       "entity               11400270\n",
       "sub_entity           11400514\n",
       "age_group            11401530\n",
       "current_year         11406740\n",
       "sex                  11400232\n",
       "artifact_path        11401844\n",
       "input_draw_number    11400756\n",
       "scenario             11400173\n",
       "input_draw           11400756\n",
       "random_seed          11400212\n",
       "value                91200000\n",
       "dtype: int64"
      ]
     },
     "execution_count": 35,
     "metadata": {},
     "output_type": "execute_result"
    }
   ],
   "source": [
    "m = ylds.memory_usage(deep=True)\n",
    "print(m.sum() / 1e6)\n",
    "m"
   ]
  },
  {
   "cell_type": "markdown",
   "id": "687dc0fc",
   "metadata": {},
   "source": [
    "# Now try aggregating over random seeds\n",
    "\n",
    "This reduces the number of rows by a factor of 5 (since there are 5\n",
    "random seeds), from 11.4 million to 2.28 million. The memory usage\n",
    "decreases from 228 MB to 43 MB, also approximately a factor of 5.\n",
    "\n",
    "Note that we need to pass `observed=True` to the `DataFrame.groupby()`,\n",
    "or else the size of the result will explode because of unused categories\n",
    "in the Categoricals."
   ]
  },
  {
   "cell_type": "code",
   "execution_count": 36,
   "id": "86e6c9e2",
   "metadata": {},
   "outputs": [
    {
     "data": {
      "text/html": [
       "<div>\n",
       "<style scoped>\n",
       "    .dataframe tbody tr th:only-of-type {\n",
       "        vertical-align: middle;\n",
       "    }\n",
       "\n",
       "    .dataframe tbody tr th {\n",
       "        vertical-align: top;\n",
       "    }\n",
       "\n",
       "    .dataframe thead th {\n",
       "        text-align: right;\n",
       "    }\n",
       "</style>\n",
       "<table border=\"1\" class=\"dataframe\">\n",
       "  <thead>\n",
       "    <tr style=\"text-align: right;\">\n",
       "      <th></th>\n",
       "      <th>measure</th>\n",
       "      <th>entity_type</th>\n",
       "      <th>entity</th>\n",
       "      <th>sub_entity</th>\n",
       "      <th>age_group</th>\n",
       "      <th>current_year</th>\n",
       "      <th>sex</th>\n",
       "      <th>artifact_path</th>\n",
       "      <th>input_draw_number</th>\n",
       "      <th>scenario</th>\n",
       "      <th>input_draw</th>\n",
       "      <th>random_seed</th>\n",
       "      <th>value</th>\n",
       "    </tr>\n",
       "  </thead>\n",
       "  <tbody>\n",
       "    <tr>\n",
       "      <th>0</th>\n",
       "      <td>ylds</td>\n",
       "      <td>cause</td>\n",
       "      <td>alzheimers_disease_and_other_dementias</td>\n",
       "      <td>alzheimers_blood_based_biomarker_state</td>\n",
       "      <td>25_to_29</td>\n",
       "      <td>2025</td>\n",
       "      <td>Female</td>\n",
       "      <td>/mnt/team/simulation_science/pub/models/vivari...</td>\n",
       "      <td>499</td>\n",
       "      <td>baseline</td>\n",
       "      <td>499</td>\n",
       "      <td>2284</td>\n",
       "      <td>0.000000</td>\n",
       "    </tr>\n",
       "    <tr>\n",
       "      <th>1</th>\n",
       "      <td>ylds</td>\n",
       "      <td>cause</td>\n",
       "      <td>alzheimers_disease_and_other_dementias</td>\n",
       "      <td>alzheimers_mild_cognitive_impairment_state</td>\n",
       "      <td>25_to_29</td>\n",
       "      <td>2025</td>\n",
       "      <td>Female</td>\n",
       "      <td>/mnt/team/simulation_science/pub/models/vivari...</td>\n",
       "      <td>499</td>\n",
       "      <td>baseline</td>\n",
       "      <td>499</td>\n",
       "      <td>2284</td>\n",
       "      <td>0.000000</td>\n",
       "    </tr>\n",
       "    <tr>\n",
       "      <th>2</th>\n",
       "      <td>ylds</td>\n",
       "      <td>cause</td>\n",
       "      <td>alzheimers_disease_and_other_dementias</td>\n",
       "      <td>alzheimers_disease_state</td>\n",
       "      <td>25_to_29</td>\n",
       "      <td>2025</td>\n",
       "      <td>Female</td>\n",
       "      <td>/mnt/team/simulation_science/pub/models/vivari...</td>\n",
       "      <td>499</td>\n",
       "      <td>baseline</td>\n",
       "      <td>499</td>\n",
       "      <td>2284</td>\n",
       "      <td>0.000000</td>\n",
       "    </tr>\n",
       "    <tr>\n",
       "      <th>3</th>\n",
       "      <td>ylds</td>\n",
       "      <td>cause</td>\n",
       "      <td>all_causes</td>\n",
       "      <td>all_causes</td>\n",
       "      <td>25_to_29</td>\n",
       "      <td>2025</td>\n",
       "      <td>Female</td>\n",
       "      <td>/mnt/team/simulation_science/pub/models/vivari...</td>\n",
       "      <td>499</td>\n",
       "      <td>baseline</td>\n",
       "      <td>499</td>\n",
       "      <td>2284</td>\n",
       "      <td>0.000000</td>\n",
       "    </tr>\n",
       "    <tr>\n",
       "      <th>4</th>\n",
       "      <td>ylds</td>\n",
       "      <td>cause</td>\n",
       "      <td>alzheimers_disease_and_other_dementias</td>\n",
       "      <td>alzheimers_blood_based_biomarker_state</td>\n",
       "      <td>25_to_29</td>\n",
       "      <td>2025</td>\n",
       "      <td>Male</td>\n",
       "      <td>/mnt/team/simulation_science/pub/models/vivari...</td>\n",
       "      <td>499</td>\n",
       "      <td>baseline</td>\n",
       "      <td>499</td>\n",
       "      <td>2284</td>\n",
       "      <td>0.000000</td>\n",
       "    </tr>\n",
       "    <tr>\n",
       "      <th>...</th>\n",
       "      <td>...</td>\n",
       "      <td>...</td>\n",
       "      <td>...</td>\n",
       "      <td>...</td>\n",
       "      <td>...</td>\n",
       "      <td>...</td>\n",
       "      <td>...</td>\n",
       "      <td>...</td>\n",
       "      <td>...</td>\n",
       "      <td>...</td>\n",
       "      <td>...</td>\n",
       "      <td>...</td>\n",
       "      <td>...</td>\n",
       "    </tr>\n",
       "    <tr>\n",
       "      <th>11399995</th>\n",
       "      <td>ylds</td>\n",
       "      <td>cause</td>\n",
       "      <td>all_causes</td>\n",
       "      <td>all_causes</td>\n",
       "      <td>95_plus</td>\n",
       "      <td>2100</td>\n",
       "      <td>Female</td>\n",
       "      <td>/mnt/team/simulation_science/pub/models/vivari...</td>\n",
       "      <td>199</td>\n",
       "      <td>baseline</td>\n",
       "      <td>199</td>\n",
       "      <td>5616</td>\n",
       "      <td>475.705255</td>\n",
       "    </tr>\n",
       "    <tr>\n",
       "      <th>11399996</th>\n",
       "      <td>ylds</td>\n",
       "      <td>cause</td>\n",
       "      <td>alzheimers_disease_and_other_dementias</td>\n",
       "      <td>alzheimers_blood_based_biomarker_state</td>\n",
       "      <td>95_plus</td>\n",
       "      <td>2100</td>\n",
       "      <td>Male</td>\n",
       "      <td>/mnt/team/simulation_science/pub/models/vivari...</td>\n",
       "      <td>199</td>\n",
       "      <td>baseline</td>\n",
       "      <td>199</td>\n",
       "      <td>5616</td>\n",
       "      <td>0.000000</td>\n",
       "    </tr>\n",
       "    <tr>\n",
       "      <th>11399997</th>\n",
       "      <td>ylds</td>\n",
       "      <td>cause</td>\n",
       "      <td>alzheimers_disease_and_other_dementias</td>\n",
       "      <td>alzheimers_mild_cognitive_impairment_state</td>\n",
       "      <td>95_plus</td>\n",
       "      <td>2100</td>\n",
       "      <td>Male</td>\n",
       "      <td>/mnt/team/simulation_science/pub/models/vivari...</td>\n",
       "      <td>199</td>\n",
       "      <td>baseline</td>\n",
       "      <td>199</td>\n",
       "      <td>5616</td>\n",
       "      <td>0.622612</td>\n",
       "    </tr>\n",
       "    <tr>\n",
       "      <th>11399998</th>\n",
       "      <td>ylds</td>\n",
       "      <td>cause</td>\n",
       "      <td>alzheimers_disease_and_other_dementias</td>\n",
       "      <td>alzheimers_disease_state</td>\n",
       "      <td>95_plus</td>\n",
       "      <td>2100</td>\n",
       "      <td>Male</td>\n",
       "      <td>/mnt/team/simulation_science/pub/models/vivari...</td>\n",
       "      <td>199</td>\n",
       "      <td>baseline</td>\n",
       "      <td>199</td>\n",
       "      <td>5616</td>\n",
       "      <td>41.077482</td>\n",
       "    </tr>\n",
       "    <tr>\n",
       "      <th>11399999</th>\n",
       "      <td>ylds</td>\n",
       "      <td>cause</td>\n",
       "      <td>all_causes</td>\n",
       "      <td>all_causes</td>\n",
       "      <td>95_plus</td>\n",
       "      <td>2100</td>\n",
       "      <td>Male</td>\n",
       "      <td>/mnt/team/simulation_science/pub/models/vivari...</td>\n",
       "      <td>199</td>\n",
       "      <td>baseline</td>\n",
       "      <td>199</td>\n",
       "      <td>5616</td>\n",
       "      <td>41.700095</td>\n",
       "    </tr>\n",
       "  </tbody>\n",
       "</table>\n",
       "<p>11400000 rows × 13 columns</p>\n",
       "</div>"
      ],
      "text/plain": [
       "         measure entity_type                                  entity  \\\n",
       "0           ylds       cause  alzheimers_disease_and_other_dementias   \n",
       "1           ylds       cause  alzheimers_disease_and_other_dementias   \n",
       "2           ylds       cause  alzheimers_disease_and_other_dementias   \n",
       "3           ylds       cause                              all_causes   \n",
       "4           ylds       cause  alzheimers_disease_and_other_dementias   \n",
       "...          ...         ...                                     ...   \n",
       "11399995    ylds       cause                              all_causes   \n",
       "11399996    ylds       cause  alzheimers_disease_and_other_dementias   \n",
       "11399997    ylds       cause  alzheimers_disease_and_other_dementias   \n",
       "11399998    ylds       cause  alzheimers_disease_and_other_dementias   \n",
       "11399999    ylds       cause                              all_causes   \n",
       "\n",
       "                                          sub_entity age_group current_year  \\\n",
       "0             alzheimers_blood_based_biomarker_state  25_to_29         2025   \n",
       "1         alzheimers_mild_cognitive_impairment_state  25_to_29         2025   \n",
       "2                           alzheimers_disease_state  25_to_29         2025   \n",
       "3                                         all_causes  25_to_29         2025   \n",
       "4             alzheimers_blood_based_biomarker_state  25_to_29         2025   \n",
       "...                                              ...       ...          ...   \n",
       "11399995                                  all_causes   95_plus         2100   \n",
       "11399996      alzheimers_blood_based_biomarker_state   95_plus         2100   \n",
       "11399997  alzheimers_mild_cognitive_impairment_state   95_plus         2100   \n",
       "11399998                    alzheimers_disease_state   95_plus         2100   \n",
       "11399999                                  all_causes   95_plus         2100   \n",
       "\n",
       "             sex                                      artifact_path  \\\n",
       "0         Female  /mnt/team/simulation_science/pub/models/vivari...   \n",
       "1         Female  /mnt/team/simulation_science/pub/models/vivari...   \n",
       "2         Female  /mnt/team/simulation_science/pub/models/vivari...   \n",
       "3         Female  /mnt/team/simulation_science/pub/models/vivari...   \n",
       "4           Male  /mnt/team/simulation_science/pub/models/vivari...   \n",
       "...          ...                                                ...   \n",
       "11399995  Female  /mnt/team/simulation_science/pub/models/vivari...   \n",
       "11399996    Male  /mnt/team/simulation_science/pub/models/vivari...   \n",
       "11399997    Male  /mnt/team/simulation_science/pub/models/vivari...   \n",
       "11399998    Male  /mnt/team/simulation_science/pub/models/vivari...   \n",
       "11399999    Male  /mnt/team/simulation_science/pub/models/vivari...   \n",
       "\n",
       "         input_draw_number  scenario input_draw random_seed       value  \n",
       "0                      499  baseline        499        2284    0.000000  \n",
       "1                      499  baseline        499        2284    0.000000  \n",
       "2                      499  baseline        499        2284    0.000000  \n",
       "3                      499  baseline        499        2284    0.000000  \n",
       "4                      499  baseline        499        2284    0.000000  \n",
       "...                    ...       ...        ...         ...         ...  \n",
       "11399995               199  baseline        199        5616  475.705255  \n",
       "11399996               199  baseline        199        5616    0.000000  \n",
       "11399997               199  baseline        199        5616    0.622612  \n",
       "11399998               199  baseline        199        5616   41.077482  \n",
       "11399999               199  baseline        199        5616   41.700095  \n",
       "\n",
       "[11400000 rows x 13 columns]"
      ]
     },
     "execution_count": 36,
     "metadata": {},
     "output_type": "execute_result"
    }
   ],
   "source": [
    "ylds"
   ]
  },
  {
   "cell_type": "code",
   "execution_count": 56,
   "id": "6f9e9118",
   "metadata": {},
   "outputs": [
    {
     "name": "stdout",
     "output_type": "stream",
     "text": [
      "CPU times: user 4.91 s, sys: 1.29 s, total: 6.2 s\n",
      "Wall time: 6.2 s\n"
     ]
    },
    {
     "data": {
      "text/plain": [
       "age_group  artifact_path                                                                                  current_year  entity                                  entity_type  input_draw  input_draw_number  measure  scenario  sex     sub_entity                                \n",
       "25_to_29   /mnt/team/simulation_science/pub/models/vivarium_csu_alzheimers/artifacts/model5.0/sweden.hdf  2025          alzheimers_disease_and_other_dementias  cause        499         499                ylds     baseline  Female  alzheimers_blood_based_biomarker_state           0.000000\n",
       "                                                                                                                                                                                                                                       alzheimers_mild_cognitive_impairment_state       0.000000\n",
       "                                                                                                                                                                                                                                       alzheimers_disease_state                         0.000000\n",
       "                                                                                                                                                                                                                               Male    alzheimers_blood_based_biomarker_state           0.000000\n",
       "                                                                                                                                                                                                                                       alzheimers_mild_cognitive_impairment_state       0.000000\n",
       "                                                                                                                                                                                                                                                                                        ...     \n",
       "95_plus    /mnt/team/simulation_science/pub/models/vivarium_csu_alzheimers/artifacts/model5.0/brazil.hdf  2100          all_causes                              cause        199         199                ylds     baseline  Male    all_causes                                    1217.536175\n",
       "                                                                                                                                                                             265         265                ylds     baseline  Female  all_causes                                    4835.131363\n",
       "                                                                                                                                                                                                                               Male    all_causes                                    2756.038204\n",
       "                                                                                                                                                                             169         169                ylds     baseline  Female  all_causes                                    5259.934842\n",
       "                                                                                                                                                                                                                               Male    all_causes                                    2536.217892\n",
       "Name: value, Length: 2280000, dtype: float64"
      ]
     },
     "execution_count": 56,
     "metadata": {},
     "output_type": "execute_result"
    }
   ],
   "source": [
    "%%time\n",
    "groupby_cols = ylds.columns.difference(['random_seed', 'value']).to_list()\n",
    "temp = ylds.groupby(groupby_cols, observed=True)['value'].sum()\n",
    "temp"
   ]
  },
  {
   "cell_type": "code",
   "execution_count": 57,
   "id": "9c0d56d5",
   "metadata": {},
   "outputs": [
    {
     "data": {
      "text/plain": [
       "2.28"
      ]
     },
     "execution_count": 57,
     "metadata": {},
     "output_type": "execute_result"
    }
   ],
   "source": [
    "2280000 / 1e6"
   ]
  },
  {
   "cell_type": "code",
   "execution_count": 41,
   "id": "9de8b281",
   "metadata": {},
   "outputs": [
    {
     "data": {
      "text/plain": [
       "11.4"
      ]
     },
     "execution_count": 41,
     "metadata": {},
     "output_type": "execute_result"
    }
   ],
   "source": [
    "11400000 / 1e6"
   ]
  },
  {
   "cell_type": "code",
   "execution_count": 62,
   "id": "6948c946",
   "metadata": {},
   "outputs": [
    {
     "data": {
      "text/plain": [
       "5.0"
      ]
     },
     "execution_count": 62,
     "metadata": {},
     "output_type": "execute_result"
    }
   ],
   "source": [
    "11400000 / 2280000"
   ]
  },
  {
   "cell_type": "code",
   "execution_count": 58,
   "id": "e47b3f13",
   "metadata": {},
   "outputs": [
    {
     "name": "stdout",
     "output_type": "stream",
     "text": [
      "43.333961 MB\n"
     ]
    },
    {
     "data": {
      "text/plain": [
       "43333961"
      ]
     },
     "execution_count": 58,
     "metadata": {},
     "output_type": "execute_result"
    }
   ],
   "source": [
    "m = temp.memory_usage(deep=True)\n",
    "print(m / 1e6, 'MB')\n",
    "m"
   ]
  },
  {
   "cell_type": "code",
   "execution_count": 59,
   "id": "7e7a1827",
   "metadata": {},
   "outputs": [
    {
     "data": {
      "text/plain": [
       "CategoricalIndex(['alzheimers_blood_based_biomarker_state',\n",
       "                  'alzheimers_mild_cognitive_impairment_state',\n",
       "                  'alzheimers_disease_state', 'all_causes'],\n",
       "                 categories=['all_causes', 'alzheimers_blood_based_biomarker_state', 'alzheimers_disease_state', 'alzheimers_mild_cognitive_impairment_state'], ordered=False, dtype='category', name='sub_entity')"
      ]
     },
     "execution_count": 59,
     "metadata": {},
     "output_type": "execute_result"
    }
   ],
   "source": [
    "temp.index.unique('sub_entity')"
   ]
  },
  {
   "cell_type": "code",
   "execution_count": 61,
   "id": "71b50815",
   "metadata": {},
   "outputs": [
    {
     "data": {
      "text/plain": [
       "CategoricalIndex(['alzheimers_disease_and_other_dementias', 'all_causes'], categories=['all_causes', 'alzheimers_disease_and_other_dementias'], ordered=False, dtype='category', name='entity')"
      ]
     },
     "execution_count": 61,
     "metadata": {},
     "output_type": "execute_result"
    }
   ],
   "source": [
    "temp.index.unique('entity')"
   ]
  },
  {
   "cell_type": "code",
   "execution_count": 60,
   "id": "76497af3",
   "metadata": {},
   "outputs": [
    {
     "data": {
      "text/plain": [
       "CategoricalIndex(['25_to_29', '30_to_34', '35_to_39', '40_to_44', '45_to_49',\n",
       "                  '50_to_54', '55_to_59', '60_to_64', '65_to_69', '70_to_74',\n",
       "                  '75_to_79', '80_to_84', '85_to_89', '90_to_94', '95_plus'],\n",
       "                 categories=['25_to_29', '30_to_34', '35_to_39', '40_to_44', ..., '80_to_84', '85_to_89', '90_to_94', '95_plus'], ordered=False, dtype='category', name='age_group')"
      ]
     },
     "execution_count": 60,
     "metadata": {},
     "output_type": "execute_result"
    }
   ],
   "source": [
    "temp.index.unique('age_group')"
   ]
  },
  {
   "cell_type": "code",
   "execution_count": 48,
   "id": "86a47d05",
   "metadata": {},
   "outputs": [
    {
     "data": {
      "text/plain": [
       "FrozenList(['age_group', 'artifact_path', 'current_year', 'entity', 'entity_type', 'input_draw', 'input_draw_number', 'measure', 'scenario', 'sex', 'sub_entity'])"
      ]
     },
     "execution_count": 48,
     "metadata": {},
     "output_type": "execute_result"
    }
   ],
   "source": [
    "temp.index.names"
   ]
  },
  {
   "cell_type": "code",
   "execution_count": 54,
   "id": "8801edeb",
   "metadata": {},
   "outputs": [
    {
     "data": {
      "text/plain": [
       "CategoricalIndex(['25_to_29', '25_to_29', '25_to_29', '25_to_29', '25_to_29',\n",
       "                  '25_to_29', '25_to_29', '25_to_29', '25_to_29', '25_to_29',\n",
       "                  ...\n",
       "                  '95_plus', '95_plus', '95_plus', '95_plus', '95_plus',\n",
       "                  '95_plus', '95_plus', '95_plus', '95_plus', '95_plus'],\n",
       "                 categories=['25_to_29', '30_to_34', '35_to_39', '40_to_44', ..., '80_to_84', '85_to_89', '90_to_94', '95_plus'], ordered=False, dtype='category', name='age_group', length=114000000)"
      ]
     },
     "execution_count": 54,
     "metadata": {},
     "output_type": "execute_result"
    }
   ],
   "source": [
    "temp.index.get_level_values('age_group')"
   ]
  },
  {
   "cell_type": "code",
   "execution_count": 55,
   "id": "568bbbb1",
   "metadata": {},
   "outputs": [
    {
     "data": {
      "text/plain": [
       "False"
      ]
     },
     "execution_count": 55,
     "metadata": {},
     "output_type": "execute_result"
    }
   ],
   "source": [
    "temp.isna().any()"
   ]
  },
  {
   "cell_type": "code",
   "execution_count": 63,
   "id": "608be8ac",
   "metadata": {},
   "outputs": [
    {
     "data": {
      "text/plain": [
       "5.265588914549654"
      ]
     },
     "execution_count": 63,
     "metadata": {},
     "output_type": "execute_result"
    }
   ],
   "source": [
    "228 / 43.3"
   ]
  },
  {
   "cell_type": "code",
   "execution_count": null,
   "id": "880905e7",
   "metadata": {},
   "outputs": [],
   "source": []
  }
 ],
 "metadata": {
  "kernelspec": {
   "display_name": "vivarium_csu_alzheimers_artifact",
   "language": "python",
   "name": "python3"
  },
  "language_info": {
   "codemirror_mode": {
    "name": "ipython",
    "version": 3
   },
   "file_extension": ".py",
   "mimetype": "text/x-python",
   "name": "python",
   "nbconvert_exporter": "python",
   "pygments_lexer": "ipython3",
   "version": "3.11.13"
  }
 },
 "nbformat": 4,
 "nbformat_minor": 5
}
